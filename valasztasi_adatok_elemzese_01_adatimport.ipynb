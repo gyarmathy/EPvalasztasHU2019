{
 "cells": [
  {
   "cell_type": "markdown",
   "metadata": {},
   "source": [
    "# Adatimport a választási adatok elemzéséhez\n",
    "\n",
    "Adatok a valasztas.hu és a KSH adatai alapján. Letöltés: 2019. május."
   ]
  },
  {
   "cell_type": "markdown",
   "metadata": {},
   "source": [
    "Megjegyzés: a valasztas.hu oldalán 2019. május végén megtalálhatóak voltak a belföldi szavazókörökre lebontott eredmények letölthető, Excel formátumban, azonban 2019. június 3-án már nem."
   ]
  },
  {
   "cell_type": "code",
   "execution_count": 1,
   "metadata": {},
   "outputs": [],
   "source": [
    "%run definitions.ipynb"
   ]
  },
  {
   "cell_type": "code",
   "execution_count": 2,
   "metadata": {},
   "outputs": [
    {
     "name": "stdout",
     "output_type": "stream",
     "text": [
      "verbose_print = True\n"
     ]
    }
   ],
   "source": [
    "try:\n",
    "    verbose_print == True\n",
    "except NameError:\n",
    "    verbose_print = True\n",
    "    print(\"verbose_print = True\")"
   ]
  },
  {
   "cell_type": "markdown",
   "metadata": {},
   "source": [
    "### Változók"
   ]
  },
  {
   "cell_type": "code",
   "execution_count": 3,
   "metadata": {},
   "outputs": [
    {
     "name": "stdout",
     "output_type": "stream",
     "text": [
      "Levélszavazatok forrása: https://www.valasztas.hu/levelszavazas-eredmenye_ep2019\n"
     ]
    }
   ],
   "source": [
    "print(\"Levélszavazatok forrása: https://www.valasztas.hu/levelszavazas-eredmenye_ep2019\")\n",
    "levelszavazatok = {\"FIDESZ\": 55287,\n",
    "                    \"MOMENTUM\": 553,\n",
    "                    \"MI HAZÁNK\": 365,\n",
    "                    \"DK\": 343,\n",
    "                    \"MKKP\": 336,\n",
    "                    \"MSZP-PÁRBESZÉD\": 258,\n",
    "                    \"LMP\": 208,\n",
    "                    \"JOBBIK\": 187,\n",
    "                    \"MUNKÁSPÁRT\": 71,\n",
    "                  }\n",
    "\n",
    "levelszavazat_regisztralt =  115325\n",
    "levelszavazat_beerkezett = 63762\n",
    "levelszavazat_ervenyes = 57777\n",
    "levelszavazat_ervenytelen = 5985\n",
    "levelszavazat_ervenyes_szavazasi_iratokban_szavazolapok = 57774\n",
    "levelszavazat_ervenyes_szavazasi_iratokban_ervenytelen_szavazolapok = 166\n",
    "levelszavazat_ervenyes_szavazat = 57608\n"
   ]
  },
  {
   "cell_type": "code",
   "execution_count": 4,
   "metadata": {},
   "outputs": [
    {
     "name": "stdout",
     "output_type": "stream",
     "text": [
      "Külképviseleti adatok forrása: https://www.valasztas.hu/kulkepviseleti-szavazas-eredmenye_ep2019\n"
     ]
    }
   ],
   "source": [
    "print(\"Külképviseleti adatok forrása: https://www.valasztas.hu/kulkepviseleti-szavazas-eredmenye_ep2019\")\n",
    "kulkepviseleti_szavazatok = {\"FIDESZ\":7222,\n",
    "                            \"MOMENTUM\":5078,\n",
    "                            \"DK\":1678,\n",
    "                            \"MSZP-PÁRBESZÉD\":1113,\n",
    "                            \"MKKP\":913,\n",
    "                            \"LMP\":700,\n",
    "                            \"JOBBIK\":400,\n",
    "                            \"MI HAZÁNK\":362,\n",
    "                            \"MUNKÁSPÁRT\":19,\n",
    "                            }\n",
    "\n",
    "kulkepvis_regisztralt = 20291\n",
    "kulkepvis_megjelent = 17551\n",
    "kulkepvis_nemszavazott = 2740\n",
    "kulkepvis_beerkezett_ervenyes_boritek = 17551\n",
    "kulkepvis_ervenytelen_boritek = 194\n",
    "kulkepvis_ervenyes_boritek_belyegzonelkuli_szavazolap = 5\n",
    "kulkepvis_ervenyes_boritek_lebelyegzett_szavazolap = 17546\n",
    "kulkepvis_ervenytelen_lebelyegzett_szavazolap = 61\n",
    "kulkepvis_ervenyes_szavazolap = 17485"
   ]
  },
  {
   "cell_type": "code",
   "execution_count": 5,
   "metadata": {},
   "outputs": [],
   "source": [
    "partok = [\"MSZP-PÁRBESZÉD\", \"MKKP\", \"JOBBIK\", \"FIDESZ\", \"MOMENTUM\", \"DK\", \"MI HAZÁNK\", \"MUNKÁSPÁRT\", \"LMP\"]\n",
    "ellenzeki_partok = [p for p in partok if p != \"FIDESZ\"]"
   ]
  },
  {
   "cell_type": "code",
   "execution_count": 6,
   "metadata": {},
   "outputs": [],
   "source": [
    "partok_szine = ['#c30020', #MSZP\n",
    "                '#333333', #MKKP\n",
    "                '#178429', #Jobbik\n",
    "                '#fd8100', #Fidesz\n",
    "                '#8e6fcd', #Momentum\n",
    "                '#00adef', #DK\n",
    "                'grey', #Mi Hazánk -- nincs színkód\n",
    "                'darkred', #Munkáspárt\n",
    "                '#73c92d', #LMP\n",
    "                ]\n",
    "\n",
    "ellenzeki_partok_szine = [partok_szine[i] for i in range(len(partok)) if i != partok.index(\"FIDESZ\")]"
   ]
  },
  {
   "cell_type": "markdown",
   "metadata": {},
   "source": [
    "## Adatok beimportálása"
   ]
  },
  {
   "cell_type": "code",
   "execution_count": 7,
   "metadata": {},
   "outputs": [
    {
     "name": "stdout",
     "output_type": "stream",
     "text": [
      "Beföldi választási adatok forrása (2019. május): https://www.valasztas.hu/ep2019\n",
      "Települési adatok forrása: KSH 2011-es helyiségnévkönyv: http://www.ksh.hu/docs/hun/hnk/Helysegnevkonyv_adattar_2011.xls\n",
      "Megyei szintű adatok forrása: KSH: https://www.ksh.hu/\n"
     ]
    }
   ],
   "source": [
    "print(\"Beföldi választási adatok forrása (2019. május): https://www.valasztas.hu/ep2019\")\n",
    "print(\"Települési adatok forrása: KSH 2011-es helyiségnévkönyv: http://www.ksh.hu/docs/hun/hnk/Helysegnevkonyv_adattar_2011.xls\")\n",
    "print(\"Megyei szintű adatok forrása: KSH: https://www.ksh.hu/\")"
   ]
  },
  {
   "cell_type": "code",
   "execution_count": 8,
   "metadata": {},
   "outputs": [],
   "source": [
    "valasztasi_adatok = pd.read_csv(\"dataout/valasztasi_eredmenyek.csv\")\n",
    "megyei_adatok = pd.read_csv(\"dataout/megyei_adatok.csv\")\n",
    "helyisegnevkonyv = pd.read_csv(\"dataout/helyisegnevkonyv.csv\")"
   ]
  },
  {
   "cell_type": "code",
   "execution_count": 9,
   "metadata": {},
   "outputs": [
    {
     "name": "stdout",
     "output_type": "stream",
     "text": [
      "Balatonakarattya (2014-ben lett önálló) a 2011-es helyiségnevek azonosak a választási adatokban szereplőkkel: True\n"
     ]
    }
   ],
   "source": [
    "if verbose_print:   \n",
    "    print(\"Balatonakarattya (2014-ben lett önálló) a 2011-es helyiségnevek azonosak a választási adatokban szereplőkkel:\",\n",
    "     set(valasztasi_adatok[\"Település\"].unique()) == (set(helyisegnevkonyv[\"község_neve_2011\"].unique()) | {\"Balatonakarattya\"})\n",
    "     )"
   ]
  },
  {
   "cell_type": "code",
   "execution_count": 10,
   "metadata": {},
   "outputs": [
    {
     "name": "stdout",
     "output_type": "stream",
     "text": [
      "(3177, 19)\n",
      "(3177, 41)\n"
     ]
    }
   ],
   "source": [
    "if verbose_print:\n",
    "    print(np.shape(valasztasi_adatok))\n",
    "valasztasi_adatok = valasztasi_adatok.merge(helyisegnevkonyv, left_on=\"Település\", right_on=\"község_neve_2011\", how='outer')\n",
    "if verbose_print:\n",
    "    print(np.shape(valasztasi_adatok))"
   ]
  },
  {
   "cell_type": "code",
   "execution_count": 11,
   "metadata": {},
   "outputs": [
    {
     "name": "stdout",
     "output_type": "stream",
     "text": [
      "(3177, 41)\n",
      "(3177, 235)\n"
     ]
    }
   ],
   "source": [
    "if verbose_print:\n",
    "    print(np.shape(valasztasi_adatok))\n",
    "valasztasi_adatok = valasztasi_adatok.merge(megyei_adatok, left_on=\"Megye\", right_on=\"megye\", how='outer')\n",
    "if verbose_print:\n",
    "    print(np.shape(valasztasi_adatok))"
   ]
  },
  {
   "cell_type": "code",
   "execution_count": 12,
   "metadata": {},
   "outputs": [
    {
     "name": "stdout",
     "output_type": "stream",
     "text": [
      "A 2011-es megyék azonosak a választási adatokban szereplőkkel: False\n"
     ]
    }
   ],
   "source": [
    "if verbose_print:\n",
    "    print(\"A 2011-es megyék azonosak a választási adatokban szereplőkkel:\",\n",
    "     (valasztasi_adatok[valasztasi_adatok[\"Település\"] != \"Balatonakarattya\"][\"Megye\"] == valasztasi_adatok[valasztasi_adatok[\"Település\"] != \"Balatonakarattya\"][\"megye_2011\"]).all()\n",
    "     )"
   ]
  },
  {
   "cell_type": "code",
   "execution_count": 13,
   "metadata": {},
   "outputs": [
    {
     "data": {
      "text/html": [
       "<div>\n",
       "<style scoped>\n",
       "    .dataframe tbody tr th:only-of-type {\n",
       "        vertical-align: middle;\n",
       "    }\n",
       "\n",
       "    .dataframe tbody tr th {\n",
       "        vertical-align: top;\n",
       "    }\n",
       "\n",
       "    .dataframe thead th {\n",
       "        text-align: right;\n",
       "    }\n",
       "</style>\n",
       "<table border=\"1\" class=\"dataframe\">\n",
       "  <thead>\n",
       "    <tr style=\"text-align: right;\">\n",
       "      <th></th>\n",
       "      <th>Település</th>\n",
       "      <th>Megye</th>\n",
       "      <th>község_neve_2011</th>\n",
       "      <th>megye</th>\n",
       "      <th>megye_2011</th>\n",
       "    </tr>\n",
       "  </thead>\n",
       "  <tbody>\n",
       "    <tr>\n",
       "      <th>1922</th>\n",
       "      <td>Balatonvilágos</td>\n",
       "      <td>Somogy</td>\n",
       "      <td>Balatonvilágos</td>\n",
       "      <td>Somogy</td>\n",
       "      <td>Veszprém</td>\n",
       "    </tr>\n",
       "  </tbody>\n",
       "</table>\n",
       "</div>"
      ],
      "text/plain": [
       "           Település   Megye község_neve_2011   megye megye_2011\n",
       "1922  Balatonvilágos  Somogy   Balatonvilágos  Somogy   Veszprém"
      ]
     },
     "metadata": {},
     "output_type": "display_data"
    }
   ],
   "source": [
    "if verbose_print:\n",
    "    tmp = (valasztasi_adatok[valasztasi_adatok[\"Település\"] != \"Balatonakarattya\"][\"Megye\"] == valasztasi_adatok[valasztasi_adatok[\"Település\"] != \"Balatonakarattya\"][\"megye_2011\"])\n",
    "    display(valasztasi_adatok.iloc[tmp[tmp == False].index.tolist(), :].loc[:, [\"Település\", \"Megye\", \"község_neve_2011\", \"megye\", \"megye_2011\"]])\n",
    "    del tmp"
   ]
  },
  {
   "cell_type": "markdown",
   "metadata": {},
   "source": [
    "Balatonvilágos a Wikipédia szerint \"2013. január 1-jétől Somogy megyéhez tartozik\", előtte Veszprém megyéhez."
   ]
  },
  {
   "cell_type": "code",
   "execution_count": 14,
   "metadata": {},
   "outputs": [],
   "source": [
    "del valasztasi_adatok[\"község_neve_2011\"]\n",
    "del valasztasi_adatok[\"megye\"]\n",
    "del valasztasi_adatok[\"megye_2011\"]"
   ]
  },
  {
   "cell_type": "code",
   "execution_count": 15,
   "metadata": {},
   "outputs": [
    {
     "data": {
      "text/plain": [
       "(3177, 232)"
      ]
     },
     "execution_count": 15,
     "metadata": {},
     "output_type": "execute_result"
    }
   ],
   "source": [
    "np.shape(valasztasi_adatok)"
   ]
  },
  {
   "cell_type": "code",
   "execution_count": 16,
   "metadata": {},
   "outputs": [
    {
     "data": {
      "text/html": [
       "<div>\n",
       "<style scoped>\n",
       "    .dataframe tbody tr th:only-of-type {\n",
       "        vertical-align: middle;\n",
       "    }\n",
       "\n",
       "    .dataframe tbody tr th {\n",
       "        vertical-align: top;\n",
       "    }\n",
       "\n",
       "    .dataframe thead th {\n",
       "        text-align: right;\n",
       "    }\n",
       "</style>\n",
       "<table border=\"1\" class=\"dataframe\">\n",
       "  <thead>\n",
       "    <tr style=\"text-align: right;\">\n",
       "      <th></th>\n",
       "      <th>Település</th>\n",
       "      <th>Megye</th>\n",
       "      <th>Település típusa</th>\n",
       "      <th>Szavazókör db</th>\n",
       "      <th>Névjegyzékben szereplő választópolgárok száma</th>\n",
       "      <th>Megjelentek száma</th>\n",
       "      <th>Bélyegző nélküli szavazólapok száma</th>\n",
       "      <th>Lebélyegzett szavazólapok száma</th>\n",
       "      <th>Érvénytelen, lebélyegzett szavazólapok száma</th>\n",
       "      <th>Érvényes szavazólapok száma</th>\n",
       "      <th>MSZP-PÁRBESZÉD</th>\n",
       "      <th>MKKP</th>\n",
       "      <th>JOBBIK</th>\n",
       "      <th>FIDESZ</th>\n",
       "      <th>MOMENTUM</th>\n",
       "      <th>DK</th>\n",
       "      <th>MI HAZÁNK</th>\n",
       "      <th>MUNKÁSPÁRT</th>\n",
       "      <th>LMP</th>\n",
       "      <th>község_jogállása_2011</th>\n",
       "    </tr>\n",
       "  </thead>\n",
       "  <tbody>\n",
       "    <tr>\n",
       "      <th>0</th>\n",
       "      <td>Budapest 01</td>\n",
       "      <td>Budapest</td>\n",
       "      <td>Fővárosi kerület</td>\n",
       "      <td>20</td>\n",
       "      <td>20315</td>\n",
       "      <td>12623</td>\n",
       "      <td>7</td>\n",
       "      <td>12610</td>\n",
       "      <td>45</td>\n",
       "      <td>12565</td>\n",
       "      <td>1035</td>\n",
       "      <td>508</td>\n",
       "      <td>241</td>\n",
       "      <td>5696</td>\n",
       "      <td>2631</td>\n",
       "      <td>1730</td>\n",
       "      <td>200</td>\n",
       "      <td>31</td>\n",
       "      <td>493</td>\n",
       "      <td>fővárosi kerület</td>\n",
       "    </tr>\n",
       "  </tbody>\n",
       "</table>\n",
       "</div>"
      ],
      "text/plain": [
       "     Település     Megye  Település típusa  Szavazókör db  \\\n",
       "0  Budapest 01  Budapest  Fővárosi kerület             20   \n",
       "\n",
       "   Névjegyzékben szereplő választópolgárok száma  Megjelentek száma  \\\n",
       "0                                          20315              12623   \n",
       "\n",
       "   Bélyegző nélküli szavazólapok száma  Lebélyegzett szavazólapok száma  \\\n",
       "0                                    7                            12610   \n",
       "\n",
       "   Érvénytelen, lebélyegzett szavazólapok száma  Érvényes szavazólapok száma  \\\n",
       "0                                            45                        12565   \n",
       "\n",
       "   MSZP-PÁRBESZÉD  MKKP  JOBBIK  FIDESZ  MOMENTUM    DK  MI HAZÁNK  \\\n",
       "0            1035   508     241    5696      2631  1730        200   \n",
       "\n",
       "   MUNKÁSPÁRT  LMP község_jogállása_2011  \n",
       "0          31  493      fővárosi kerület  "
      ]
     },
     "execution_count": 16,
     "metadata": {},
     "output_type": "execute_result"
    }
   ],
   "source": [
    "valasztasi_adatok.iloc[:, :20].head(1)"
   ]
  },
  {
   "cell_type": "markdown",
   "metadata": {},
   "source": [
    "**Helyiségek státusának változása 2011 óta**"
   ]
  },
  {
   "cell_type": "code",
   "execution_count": 17,
   "metadata": {},
   "outputs": [
    {
     "name": "stdout",
     "output_type": "stream",
     "text": [
      "['Fővárosi kerület' 'Község' 'Város' 'Megyei jogú város']\n",
      "['fővárosi kerület' 'község' 'nagyközség' 'város'\n",
      " 'megyeszékhely, megyei jogú város' 'megyei jogú város' nan]\n"
     ]
    }
   ],
   "source": [
    "if verbose_print:\n",
    "    print(valasztasi_adatok[\"Település típusa\"].unique())\n",
    "    print(valasztasi_adatok[\"község_jogállása_2011\"].unique())"
   ]
  },
  {
   "cell_type": "code",
   "execution_count": 18,
   "metadata": {},
   "outputs": [
    {
     "name": "stdout",
     "output_type": "stream",
     "text": [
      "\n",
      "Község 2019-ben, de nem község vagy nagyközség 2011-ben: 1\n",
      "\t ['Balatonakarattya']\n",
      "\n",
      "Város 2019-ben, de nem 2011-ben: 18\n",
      "\t ['Kondoros', 'Onga', 'Aba', 'Csákvár', 'Lébény', 'Gyöngyöspata', 'Verpelét', 'Besenyszög', 'Fegyvernek', 'Tát', 'Diósd', 'Kerepes', 'Őrbottyán', 'Piliscsaba', 'Sülysáp', 'Újhartyán', 'Ajak', 'Jánosháza']\n",
      "\n",
      "Megyei jogú város 2019-ben, de nem megyei jogú város 2011-ben: 0\n",
      "\t []\n"
     ]
    }
   ],
   "source": [
    "if verbose_print:\n",
    "    tmp = valasztasi_adatok[ (valasztasi_adatok[\"Település típusa\"] == 'Község') & ( (valasztasi_adatok[\"község_jogállása_2011\"] != \"nagyközség\") & (valasztasi_adatok[\"község_jogállása_2011\"] != \"község\") ) ]\n",
    "    print(\"\\nKözség 2019-ben, de nem község vagy nagyközség 2011-ben:\", len(tmp))\n",
    "    print(\"\\t\", tmp[\"Település\"].tolist())\n",
    "\n",
    "    tmp = valasztasi_adatok[ (valasztasi_adatok[\"Település típusa\"] == 'Város') & (valasztasi_adatok[\"község_jogállása_2011\"] != \"város\") ]\n",
    "    print(\"\\nVáros 2019-ben, de nem 2011-ben:\", len(tmp))\n",
    "    print(\"\\t\", tmp[\"Település\"].tolist())\n",
    "\n",
    "    tmp = valasztasi_adatok[ (valasztasi_adatok[\"Település típusa\"] == 'Megyei jogú város') & ( (valasztasi_adatok[\"község_jogállása_2011\"] != 'megyeszékhely, megyei jogú város') & (valasztasi_adatok[\"község_jogállása_2011\"] != 'megyei jogú város') ) ]\n",
    "    print(\"\\nMegyei jogú város 2019-ben, de nem megyei jogú város 2011-ben:\", len(tmp))\n",
    "    print(\"\\t\", tmp[\"Település\"].tolist())"
   ]
  },
  {
   "cell_type": "code",
   "execution_count": 19,
   "metadata": {},
   "outputs": [],
   "source": [
    "del valasztasi_adatok[\"község_jogállása_2011\"]"
   ]
  },
  {
   "cell_type": "markdown",
   "metadata": {},
   "source": [
    "**Szavazti arányok hozzáadása**"
   ]
  },
  {
   "cell_type": "code",
   "execution_count": 20,
   "metadata": {},
   "outputs": [],
   "source": [
    "valasztasi_adatok[\"részvételi arány\"] = valasztasi_adatok['Megjelentek száma'] / valasztasi_adatok[\"Névjegyzékben szereplő választópolgárok száma\"]\n",
    "\n",
    "valasztasi_adatok[\"érvényes szavazatok aránya\"] = valasztasi_adatok[\"Érvényes szavazólapok száma\"] / valasztasi_adatok[\"Megjelentek száma\"]\n",
    "\n",
    "for party in partok:\n",
    "    valasztasi_adatok[party+\"_%\"] = valasztasi_adatok[party] / valasztasi_adatok[\"Érvényes szavazólapok száma\"] * 100\n",
    "    \n",
    "    valasztasi_adatok[party+\"_szavazóképes_lakosság_%\"] = valasztasi_adatok[party] / valasztasi_adatok[\"Érvényes szavazólapok száma\"] * 100\n",
    "    "
   ]
  },
  {
   "cell_type": "markdown",
   "metadata": {},
   "source": [
    "## Elemzéshez változók"
   ]
  },
  {
   "cell_type": "code",
   "execution_count": 21,
   "metadata": {},
   "outputs": [],
   "source": [
    "cols_partra_adott_szavazatok_szazalekban = [c for c in valasztasi_adatok.columns if c.endswith(\"_%\") and \"szavazóképes\" not in c]"
   ]
  },
  {
   "cell_type": "code",
   "execution_count": 22,
   "metadata": {},
   "outputs": [],
   "source": [
    "valasztasi_adatok[\"Település típusa\"] = pd.Categorical(valasztasi_adatok[\"Település típusa\"],\n",
    "                      categories=[\"Fővárosi kerület\",\"Megyei jogú város\",\"Város\", \"Község\", \n",
    "                                  \"BELFÖLDI\", \"Levélszavazat\", \"Külképviselet\", \"ÖSSZESÍTETT\"],\n",
    "                      ordered=True)"
   ]
  },
  {
   "cell_type": "code",
   "execution_count": 23,
   "metadata": {},
   "outputs": [],
   "source": [
    "valasztasi_corr = valasztasi_adatok.loc[:, cols_partra_adott_szavazatok_szazalekban].corr()"
   ]
  },
  {
   "cell_type": "markdown",
   "metadata": {},
   "source": [
    "### Megyei eredményekhez térkép"
   ]
  },
  {
   "cell_type": "markdown",
   "metadata": {},
   "source": [
    "Shapefile forrás: https://gadm.org/download_country_v3.html\n",
    "\n",
    "Mivel a file szabadon felhasználható, de nem terjeszthető, a térképfájlokat a fenti oldalról letölti az alábbi szkript, ha nem találja a `gadm36_HUN_1.shp` file-t a `datamap` könyvtárban."
   ]
  },
  {
   "cell_type": "code",
   "execution_count": 24,
   "metadata": {},
   "outputs": [
    {
     "name": "stdout",
     "output_type": "stream",
     "text": [
      "Térkép shapefile forrás: https://gadm.org/download_country_v3.html\n"
     ]
    }
   ],
   "source": [
    "map_file = \"datamap/gadm36_HUN_1.shp\"\n",
    "if not os.path.exists(map_file): \n",
    "    if verbose_print:\n",
    "        print(\"datamap/gadm36_HUN_1.shp file még nem létezik, shapefile letöltése...\")\n",
    "    map_url = \"https://biogeo.ucdavis.edu/data/gadm3.6/shp/gadm36_HUN_shp.zip\"\n",
    "    download = requests.get(map_url)\n",
    "    zipfile.ZipFile(BytesIO(download.content)).extractall('datamap')\n",
    "map_df = gpd.read_file(map_file)\n",
    "print(\"Térkép shapefile forrás: https://gadm.org/download_country_v3.html\")\n"
   ]
  },
  {
   "cell_type": "code",
   "execution_count": 25,
   "metadata": {},
   "outputs": [
    {
     "data": {
      "text/plain": [
       "0                BÃ¡cs-Kiskun\n",
       "1                     Baranya\n",
       "2                     BÃ©kÃ©s\n",
       "3      Borsod-AbaÃºj-ZemplÃ©n\n",
       "4                    Budapest\n",
       "5                   CsongrÃ¡d\n",
       "6                      FejÃ©r\n",
       "7           Gyor-Moson-Sopron\n",
       "8                HajdÃº-Bihar\n",
       "9                       Heves\n",
       "10      JÃ¡sz-Nagykun-Szolnok\n",
       "11         KomÃ¡rom-Esztergom\n",
       "12                   NÃ³grÃ¡d\n",
       "13                       Pest\n",
       "14                     Somogy\n",
       "15    Szabolcs-SzatmÃ¡r-Bereg\n",
       "16                      Tolna\n",
       "17                        Vas\n",
       "18                  VeszprÃ©m\n",
       "19                       Zala\n",
       "Name: NAME_1, dtype: object"
      ]
     },
     "execution_count": 25,
     "metadata": {},
     "output_type": "execute_result"
    }
   ],
   "source": [
    "map_df.NAME_1"
   ]
  },
  {
   "cell_type": "code",
   "execution_count": 26,
   "metadata": {},
   "outputs": [],
   "source": [
    "map_df[\"NAME_1\"] =  ['Bács-Kiskun',\n",
    "                     'Békés',\n",
    "                     'Baranya',\n",
    "                     'Borsod-Abaúj-Zemplén',\n",
    "                     'Budapest',\n",
    "                     'Csongrád',\n",
    "                     'Fejér',\n",
    "                     'Győr-Moson-Sopron',\n",
    "                     'Hajdú-Bihar',\n",
    "                     'Heves',\n",
    "                     'Jász-Nagykun-Szolnok',\n",
    "                     'Komárom-Esztergom',\n",
    "                     'Nógrád',\n",
    "                     'Pest',\n",
    "                     'Somogy',\n",
    "                     'Szabolcs-Szatmár-Bereg',\n",
    "                     'Tolna',\n",
    "                     'Vas',\n",
    "                     'Veszprém',\n",
    "                     'Zala']\n"
   ]
  },
  {
   "cell_type": "code",
   "execution_count": 27,
   "metadata": {},
   "outputs": [
    {
     "data": {
      "text/html": [
       "<div>\n",
       "<style scoped>\n",
       "    .dataframe tbody tr th:only-of-type {\n",
       "        vertical-align: middle;\n",
       "    }\n",
       "\n",
       "    .dataframe tbody tr th {\n",
       "        vertical-align: top;\n",
       "    }\n",
       "\n",
       "    .dataframe thead th {\n",
       "        text-align: right;\n",
       "    }\n",
       "</style>\n",
       "<table border=\"1\" class=\"dataframe\">\n",
       "  <thead>\n",
       "    <tr style=\"text-align: right;\">\n",
       "      <th></th>\n",
       "      <th>GID_0</th>\n",
       "      <th>NAME_0</th>\n",
       "      <th>GID_1</th>\n",
       "      <th>NAME_1</th>\n",
       "      <th>VARNAME_1</th>\n",
       "      <th>NL_NAME_1</th>\n",
       "      <th>TYPE_1</th>\n",
       "      <th>ENGTYPE_1</th>\n",
       "      <th>CC_1</th>\n",
       "      <th>HASC_1</th>\n",
       "      <th>geometry</th>\n",
       "    </tr>\n",
       "  </thead>\n",
       "  <tbody>\n",
       "    <tr>\n",
       "      <th>0</th>\n",
       "      <td>HUN</td>\n",
       "      <td>Hungary</td>\n",
       "      <td>HUN.1_1</td>\n",
       "      <td>Bács-Kiskun</td>\n",
       "      <td>Bacs-Bodrog-Kiskun</td>\n",
       "      <td>None</td>\n",
       "      <td>Megye</td>\n",
       "      <td>County</td>\n",
       "      <td>None</td>\n",
       "      <td>HU.BK</td>\n",
       "      <td>POLYGON ((19.51615524 46.15385056, 19.51568413...</td>\n",
       "    </tr>\n",
       "    <tr>\n",
       "      <th>1</th>\n",
       "      <td>HUN</td>\n",
       "      <td>Hungary</td>\n",
       "      <td>HUN.2_1</td>\n",
       "      <td>Békés</td>\n",
       "      <td>None</td>\n",
       "      <td>None</td>\n",
       "      <td>Megye</td>\n",
       "      <td>County</td>\n",
       "      <td>None</td>\n",
       "      <td>HU.BA</td>\n",
       "      <td>POLYGON ((18.07125473 45.77189255, 18.07113266...</td>\n",
       "    </tr>\n",
       "    <tr>\n",
       "      <th>2</th>\n",
       "      <td>HUN</td>\n",
       "      <td>Hungary</td>\n",
       "      <td>HUN.3_1</td>\n",
       "      <td>Baranya</td>\n",
       "      <td>None</td>\n",
       "      <td>None</td>\n",
       "      <td>Megye</td>\n",
       "      <td>County</td>\n",
       "      <td>None</td>\n",
       "      <td>HU.BE</td>\n",
       "      <td>POLYGON ((20.89214516 46.27170944, 20.89204216...</td>\n",
       "    </tr>\n",
       "    <tr>\n",
       "      <th>3</th>\n",
       "      <td>HUN</td>\n",
       "      <td>Hungary</td>\n",
       "      <td>HUN.4_1</td>\n",
       "      <td>Borsod-Abaúj-Zemplén</td>\n",
       "      <td>None</td>\n",
       "      <td>None</td>\n",
       "      <td>Megye</td>\n",
       "      <td>County</td>\n",
       "      <td>None</td>\n",
       "      <td>HU.BZ</td>\n",
       "      <td>POLYGON ((20.7680397 47.67522812, 20.76270866 ...</td>\n",
       "    </tr>\n",
       "    <tr>\n",
       "      <th>4</th>\n",
       "      <td>HUN</td>\n",
       "      <td>Hungary</td>\n",
       "      <td>HUN.5_1</td>\n",
       "      <td>Budapest</td>\n",
       "      <td>Budapeste</td>\n",
       "      <td>None</td>\n",
       "      <td>Fovaros</td>\n",
       "      <td>Capital City</td>\n",
       "      <td>None</td>\n",
       "      <td>HU.BU</td>\n",
       "      <td>POLYGON ((18.94665337 47.37084198, 18.94456673...</td>\n",
       "    </tr>\n",
       "  </tbody>\n",
       "</table>\n",
       "</div>"
      ],
      "text/plain": [
       "  GID_0   NAME_0    GID_1                NAME_1           VARNAME_1 NL_NAME_1  \\\n",
       "0   HUN  Hungary  HUN.1_1           Bács-Kiskun  Bacs-Bodrog-Kiskun      None   \n",
       "1   HUN  Hungary  HUN.2_1                 Békés                None      None   \n",
       "2   HUN  Hungary  HUN.3_1               Baranya                None      None   \n",
       "3   HUN  Hungary  HUN.4_1  Borsod-Abaúj-Zemplén                None      None   \n",
       "4   HUN  Hungary  HUN.5_1              Budapest           Budapeste      None   \n",
       "\n",
       "    TYPE_1     ENGTYPE_1  CC_1 HASC_1  \\\n",
       "0    Megye        County  None  HU.BK   \n",
       "1    Megye        County  None  HU.BA   \n",
       "2    Megye        County  None  HU.BE   \n",
       "3    Megye        County  None  HU.BZ   \n",
       "4  Fovaros  Capital City  None  HU.BU   \n",
       "\n",
       "                                            geometry  \n",
       "0  POLYGON ((19.51615524 46.15385056, 19.51568413...  \n",
       "1  POLYGON ((18.07125473 45.77189255, 18.07113266...  \n",
       "2  POLYGON ((20.89214516 46.27170944, 20.89204216...  \n",
       "3  POLYGON ((20.7680397 47.67522812, 20.76270866 ...  \n",
       "4  POLYGON ((18.94665337 47.37084198, 18.94456673...  "
      ]
     },
     "execution_count": 27,
     "metadata": {},
     "output_type": "execute_result"
    }
   ],
   "source": [
    "map_df.head()"
   ]
  },
  {
   "cell_type": "code",
   "execution_count": 28,
   "metadata": {},
   "outputs": [
    {
     "data": {
      "text/html": [
       "<div>\n",
       "<style scoped>\n",
       "    .dataframe tbody tr th:only-of-type {\n",
       "        vertical-align: middle;\n",
       "    }\n",
       "\n",
       "    .dataframe tbody tr th {\n",
       "        vertical-align: top;\n",
       "    }\n",
       "\n",
       "    .dataframe thead th {\n",
       "        text-align: right;\n",
       "    }\n",
       "</style>\n",
       "<table border=\"1\" class=\"dataframe\">\n",
       "  <thead>\n",
       "    <tr style=\"text-align: right;\">\n",
       "      <th></th>\n",
       "      <th>Megye</th>\n",
       "      <th>Érvényes szavazólapok száma</th>\n",
       "      <th>MSZP-PÁRBESZÉD</th>\n",
       "      <th>MKKP</th>\n",
       "      <th>JOBBIK</th>\n",
       "      <th>FIDESZ</th>\n",
       "      <th>MOMENTUM</th>\n",
       "      <th>DK</th>\n",
       "      <th>MI HAZÁNK</th>\n",
       "      <th>MUNKÁSPÁRT</th>\n",
       "      <th>LMP</th>\n",
       "    </tr>\n",
       "  </thead>\n",
       "  <tbody>\n",
       "    <tr>\n",
       "      <th>0</th>\n",
       "      <td>Baranya</td>\n",
       "      <td>125013</td>\n",
       "      <td>8291</td>\n",
       "      <td>3610</td>\n",
       "      <td>7575</td>\n",
       "      <td>62663</td>\n",
       "      <td>11799</td>\n",
       "      <td>23036</td>\n",
       "      <td>3907</td>\n",
       "      <td>581</td>\n",
       "      <td>3551</td>\n",
       "    </tr>\n",
       "    <tr>\n",
       "      <th>1</th>\n",
       "      <td>Borsod-Abaúj-Zemplén</td>\n",
       "      <td>200962</td>\n",
       "      <td>14367</td>\n",
       "      <td>3654</td>\n",
       "      <td>23498</td>\n",
       "      <td>103789</td>\n",
       "      <td>11643</td>\n",
       "      <td>31688</td>\n",
       "      <td>8078</td>\n",
       "      <td>1182</td>\n",
       "      <td>3063</td>\n",
       "    </tr>\n",
       "    <tr>\n",
       "      <th>2</th>\n",
       "      <td>Budapest</td>\n",
       "      <td>686313</td>\n",
       "      <td>62019</td>\n",
       "      <td>26290</td>\n",
       "      <td>21797</td>\n",
       "      <td>282583</td>\n",
       "      <td>119088</td>\n",
       "      <td>135821</td>\n",
       "      <td>15921</td>\n",
       "      <td>2321</td>\n",
       "      <td>20473</td>\n",
       "    </tr>\n",
       "    <tr>\n",
       "      <th>3</th>\n",
       "      <td>Bács-Kiskun</td>\n",
       "      <td>164947</td>\n",
       "      <td>8378</td>\n",
       "      <td>3619</td>\n",
       "      <td>11637</td>\n",
       "      <td>97011</td>\n",
       "      <td>11989</td>\n",
       "      <td>22157</td>\n",
       "      <td>6046</td>\n",
       "      <td>646</td>\n",
       "      <td>3464</td>\n",
       "    </tr>\n",
       "    <tr>\n",
       "      <th>4</th>\n",
       "      <td>Békés</td>\n",
       "      <td>109074</td>\n",
       "      <td>6725</td>\n",
       "      <td>2337</td>\n",
       "      <td>9440</td>\n",
       "      <td>57479</td>\n",
       "      <td>7419</td>\n",
       "      <td>18264</td>\n",
       "      <td>4465</td>\n",
       "      <td>758</td>\n",
       "      <td>2187</td>\n",
       "    </tr>\n",
       "    <tr>\n",
       "      <th>5</th>\n",
       "      <td>Csongrád</td>\n",
       "      <td>144543</td>\n",
       "      <td>16664</td>\n",
       "      <td>4316</td>\n",
       "      <td>7777</td>\n",
       "      <td>71283</td>\n",
       "      <td>13685</td>\n",
       "      <td>20070</td>\n",
       "      <td>7159</td>\n",
       "      <td>604</td>\n",
       "      <td>2985</td>\n",
       "    </tr>\n",
       "    <tr>\n",
       "      <th>6</th>\n",
       "      <td>Fejér</td>\n",
       "      <td>147781</td>\n",
       "      <td>7840</td>\n",
       "      <td>3816</td>\n",
       "      <td>10396</td>\n",
       "      <td>79545</td>\n",
       "      <td>13519</td>\n",
       "      <td>23659</td>\n",
       "      <td>5450</td>\n",
       "      <td>635</td>\n",
       "      <td>2921</td>\n",
       "    </tr>\n",
       "    <tr>\n",
       "      <th>7</th>\n",
       "      <td>Győr-Moson-Sopron</td>\n",
       "      <td>165859</td>\n",
       "      <td>8124</td>\n",
       "      <td>3783</td>\n",
       "      <td>9598</td>\n",
       "      <td>98139</td>\n",
       "      <td>14001</td>\n",
       "      <td>22791</td>\n",
       "      <td>5403</td>\n",
       "      <td>583</td>\n",
       "      <td>3437</td>\n",
       "    </tr>\n",
       "    <tr>\n",
       "      <th>8</th>\n",
       "      <td>Hajdú-Bihar</td>\n",
       "      <td>155708</td>\n",
       "      <td>8622</td>\n",
       "      <td>3442</td>\n",
       "      <td>11122</td>\n",
       "      <td>89325</td>\n",
       "      <td>12424</td>\n",
       "      <td>22056</td>\n",
       "      <td>4943</td>\n",
       "      <td>738</td>\n",
       "      <td>3036</td>\n",
       "    </tr>\n",
       "    <tr>\n",
       "      <th>9</th>\n",
       "      <td>Heves</td>\n",
       "      <td>99577</td>\n",
       "      <td>5792</td>\n",
       "      <td>1874</td>\n",
       "      <td>10220</td>\n",
       "      <td>52403</td>\n",
       "      <td>7105</td>\n",
       "      <td>16054</td>\n",
       "      <td>3935</td>\n",
       "      <td>458</td>\n",
       "      <td>1736</td>\n",
       "    </tr>\n",
       "    <tr>\n",
       "      <th>10</th>\n",
       "      <td>Jász-Nagykun-Szolnok</td>\n",
       "      <td>112843</td>\n",
       "      <td>7364</td>\n",
       "      <td>2176</td>\n",
       "      <td>10833</td>\n",
       "      <td>60304</td>\n",
       "      <td>6770</td>\n",
       "      <td>16865</td>\n",
       "      <td>5958</td>\n",
       "      <td>787</td>\n",
       "      <td>1786</td>\n",
       "    </tr>\n",
       "    <tr>\n",
       "      <th>11</th>\n",
       "      <td>Komárom-Esztergom</td>\n",
       "      <td>101225</td>\n",
       "      <td>5660</td>\n",
       "      <td>2647</td>\n",
       "      <td>7431</td>\n",
       "      <td>50698</td>\n",
       "      <td>8669</td>\n",
       "      <td>19888</td>\n",
       "      <td>3546</td>\n",
       "      <td>440</td>\n",
       "      <td>2246</td>\n",
       "    </tr>\n",
       "    <tr>\n",
       "      <th>12</th>\n",
       "      <td>Nógrád</td>\n",
       "      <td>61569</td>\n",
       "      <td>4478</td>\n",
       "      <td>969</td>\n",
       "      <td>4162</td>\n",
       "      <td>35034</td>\n",
       "      <td>3144</td>\n",
       "      <td>9635</td>\n",
       "      <td>2753</td>\n",
       "      <td>531</td>\n",
       "      <td>863</td>\n",
       "    </tr>\n",
       "    <tr>\n",
       "      <th>13</th>\n",
       "      <td>Pest</td>\n",
       "      <td>447088</td>\n",
       "      <td>25237</td>\n",
       "      <td>14429</td>\n",
       "      <td>23667</td>\n",
       "      <td>229711</td>\n",
       "      <td>52291</td>\n",
       "      <td>73977</td>\n",
       "      <td>14914</td>\n",
       "      <td>1526</td>\n",
       "      <td>11336</td>\n",
       "    </tr>\n",
       "    <tr>\n",
       "      <th>14</th>\n",
       "      <td>Somogy</td>\n",
       "      <td>102403</td>\n",
       "      <td>5510</td>\n",
       "      <td>1838</td>\n",
       "      <td>9110</td>\n",
       "      <td>56626</td>\n",
       "      <td>6591</td>\n",
       "      <td>17637</td>\n",
       "      <td>2943</td>\n",
       "      <td>437</td>\n",
       "      <td>1711</td>\n",
       "    </tr>\n",
       "    <tr>\n",
       "      <th>15</th>\n",
       "      <td>Szabolcs-Szatmár-Bereg</td>\n",
       "      <td>169268</td>\n",
       "      <td>10617</td>\n",
       "      <td>2458</td>\n",
       "      <td>13969</td>\n",
       "      <td>102670</td>\n",
       "      <td>9007</td>\n",
       "      <td>22770</td>\n",
       "      <td>4948</td>\n",
       "      <td>706</td>\n",
       "      <td>2123</td>\n",
       "    </tr>\n",
       "    <tr>\n",
       "      <th>16</th>\n",
       "      <td>Tolna</td>\n",
       "      <td>72604</td>\n",
       "      <td>4345</td>\n",
       "      <td>1461</td>\n",
       "      <td>4435</td>\n",
       "      <td>42852</td>\n",
       "      <td>4817</td>\n",
       "      <td>10454</td>\n",
       "      <td>2565</td>\n",
       "      <td>313</td>\n",
       "      <td>1362</td>\n",
       "    </tr>\n",
       "    <tr>\n",
       "      <th>17</th>\n",
       "      <td>Vas</td>\n",
       "      <td>99643</td>\n",
       "      <td>5612</td>\n",
       "      <td>2003</td>\n",
       "      <td>6406</td>\n",
       "      <td>60808</td>\n",
       "      <td>7394</td>\n",
       "      <td>12986</td>\n",
       "      <td>2396</td>\n",
       "      <td>284</td>\n",
       "      <td>1754</td>\n",
       "    </tr>\n",
       "    <tr>\n",
       "      <th>18</th>\n",
       "      <td>Veszprém</td>\n",
       "      <td>129004</td>\n",
       "      <td>7692</td>\n",
       "      <td>3080</td>\n",
       "      <td>9714</td>\n",
       "      <td>70631</td>\n",
       "      <td>10609</td>\n",
       "      <td>19615</td>\n",
       "      <td>4515</td>\n",
       "      <td>487</td>\n",
       "      <td>2661</td>\n",
       "    </tr>\n",
       "    <tr>\n",
       "      <th>19</th>\n",
       "      <td>Zala</td>\n",
       "      <td>100049</td>\n",
       "      <td>4843</td>\n",
       "      <td>1861</td>\n",
       "      <td>6810</td>\n",
       "      <td>58157</td>\n",
       "      <td>6917</td>\n",
       "      <td>15637</td>\n",
       "      <td>3584</td>\n",
       "      <td>345</td>\n",
       "      <td>1895</td>\n",
       "    </tr>\n",
       "  </tbody>\n",
       "</table>\n",
       "</div>"
      ],
      "text/plain": [
       "                     Megye  Érvényes szavazólapok száma  MSZP-PÁRBESZÉD  \\\n",
       "0                  Baranya                       125013            8291   \n",
       "1     Borsod-Abaúj-Zemplén                       200962           14367   \n",
       "2                 Budapest                       686313           62019   \n",
       "3              Bács-Kiskun                       164947            8378   \n",
       "4                    Békés                       109074            6725   \n",
       "5                 Csongrád                       144543           16664   \n",
       "6                    Fejér                       147781            7840   \n",
       "7        Győr-Moson-Sopron                       165859            8124   \n",
       "8              Hajdú-Bihar                       155708            8622   \n",
       "9                    Heves                        99577            5792   \n",
       "10    Jász-Nagykun-Szolnok                       112843            7364   \n",
       "11       Komárom-Esztergom                       101225            5660   \n",
       "12                  Nógrád                        61569            4478   \n",
       "13                    Pest                       447088           25237   \n",
       "14                  Somogy                       102403            5510   \n",
       "15  Szabolcs-Szatmár-Bereg                       169268           10617   \n",
       "16                   Tolna                        72604            4345   \n",
       "17                     Vas                        99643            5612   \n",
       "18                Veszprém                       129004            7692   \n",
       "19                    Zala                       100049            4843   \n",
       "\n",
       "     MKKP  JOBBIK  FIDESZ  MOMENTUM      DK  MI HAZÁNK  MUNKÁSPÁRT    LMP  \n",
       "0    3610    7575   62663     11799   23036       3907         581   3551  \n",
       "1    3654   23498  103789     11643   31688       8078        1182   3063  \n",
       "2   26290   21797  282583    119088  135821      15921        2321  20473  \n",
       "3    3619   11637   97011     11989   22157       6046         646   3464  \n",
       "4    2337    9440   57479      7419   18264       4465         758   2187  \n",
       "5    4316    7777   71283     13685   20070       7159         604   2985  \n",
       "6    3816   10396   79545     13519   23659       5450         635   2921  \n",
       "7    3783    9598   98139     14001   22791       5403         583   3437  \n",
       "8    3442   11122   89325     12424   22056       4943         738   3036  \n",
       "9    1874   10220   52403      7105   16054       3935         458   1736  \n",
       "10   2176   10833   60304      6770   16865       5958         787   1786  \n",
       "11   2647    7431   50698      8669   19888       3546         440   2246  \n",
       "12    969    4162   35034      3144    9635       2753         531    863  \n",
       "13  14429   23667  229711     52291   73977      14914        1526  11336  \n",
       "14   1838    9110   56626      6591   17637       2943         437   1711  \n",
       "15   2458   13969  102670      9007   22770       4948         706   2123  \n",
       "16   1461    4435   42852      4817   10454       2565         313   1362  \n",
       "17   2003    6406   60808      7394   12986       2396         284   1754  \n",
       "18   3080    9714   70631     10609   19615       4515         487   2661  \n",
       "19   1861    6810   58157      6917   15637       3584         345   1895  "
      ]
     },
     "execution_count": 28,
     "metadata": {},
     "output_type": "execute_result"
    }
   ],
   "source": [
    "megyei_adatok = (valasztasi_adatok.loc[:, [\"Megye\", \"Érvényes szavazólapok száma\"]+partok]).groupby(\"Megye\").sum().reset_index()\n",
    "megyei_adatok"
   ]
  },
  {
   "cell_type": "code",
   "execution_count": 29,
   "metadata": {},
   "outputs": [],
   "source": [
    "for i in range ( len( partok )):\n",
    "    megyei_adatok[cols_partra_adott_szavazatok_szazalekban[i]] = megyei_adatok[partok[i]] / megyei_adatok[\"Érvényes szavazólapok száma\"] * 100"
   ]
  },
  {
   "cell_type": "code",
   "execution_count": 30,
   "metadata": {},
   "outputs": [
    {
     "data": {
      "text/html": [
       "<div>\n",
       "<style scoped>\n",
       "    .dataframe tbody tr th:only-of-type {\n",
       "        vertical-align: middle;\n",
       "    }\n",
       "\n",
       "    .dataframe tbody tr th {\n",
       "        vertical-align: top;\n",
       "    }\n",
       "\n",
       "    .dataframe thead th {\n",
       "        text-align: right;\n",
       "    }\n",
       "</style>\n",
       "<table border=\"1\" class=\"dataframe\">\n",
       "  <thead>\n",
       "    <tr style=\"text-align: right;\">\n",
       "      <th></th>\n",
       "      <th>GID_0</th>\n",
       "      <th>NAME_0</th>\n",
       "      <th>GID_1</th>\n",
       "      <th>NAME_1</th>\n",
       "      <th>VARNAME_1</th>\n",
       "      <th>NL_NAME_1</th>\n",
       "      <th>TYPE_1</th>\n",
       "      <th>ENGTYPE_1</th>\n",
       "      <th>CC_1</th>\n",
       "      <th>HASC_1</th>\n",
       "      <th>geometry</th>\n",
       "      <th>Megye</th>\n",
       "      <th>MSZP-PÁRBESZÉD_%</th>\n",
       "      <th>MKKP_%</th>\n",
       "      <th>JOBBIK_%</th>\n",
       "      <th>FIDESZ_%</th>\n",
       "      <th>MOMENTUM_%</th>\n",
       "      <th>DK_%</th>\n",
       "      <th>MI HAZÁNK_%</th>\n",
       "      <th>MUNKÁSPÁRT_%</th>\n",
       "      <th>LMP_%</th>\n",
       "    </tr>\n",
       "  </thead>\n",
       "  <tbody>\n",
       "    <tr>\n",
       "      <th>0</th>\n",
       "      <td>HUN</td>\n",
       "      <td>Hungary</td>\n",
       "      <td>HUN.1_1</td>\n",
       "      <td>Bács-Kiskun</td>\n",
       "      <td>Bacs-Bodrog-Kiskun</td>\n",
       "      <td>None</td>\n",
       "      <td>Megye</td>\n",
       "      <td>County</td>\n",
       "      <td>None</td>\n",
       "      <td>HU.BK</td>\n",
       "      <td>POLYGON ((19.51615524 46.15385056, 19.51568413...</td>\n",
       "      <td>Bács-Kiskun</td>\n",
       "      <td>5.079207</td>\n",
       "      <td>2.194038</td>\n",
       "      <td>7.054993</td>\n",
       "      <td>58.813437</td>\n",
       "      <td>7.268395</td>\n",
       "      <td>13.432800</td>\n",
       "      <td>3.665420</td>\n",
       "      <td>0.391641</td>\n",
       "      <td>2.100069</td>\n",
       "    </tr>\n",
       "    <tr>\n",
       "      <th>1</th>\n",
       "      <td>HUN</td>\n",
       "      <td>Hungary</td>\n",
       "      <td>HUN.2_1</td>\n",
       "      <td>Békés</td>\n",
       "      <td>None</td>\n",
       "      <td>None</td>\n",
       "      <td>Megye</td>\n",
       "      <td>County</td>\n",
       "      <td>None</td>\n",
       "      <td>HU.BA</td>\n",
       "      <td>POLYGON ((18.07125473 45.77189255, 18.07113266...</td>\n",
       "      <td>Békés</td>\n",
       "      <td>6.165539</td>\n",
       "      <td>2.142582</td>\n",
       "      <td>8.654675</td>\n",
       "      <td>52.697251</td>\n",
       "      <td>6.801804</td>\n",
       "      <td>16.744595</td>\n",
       "      <td>4.093551</td>\n",
       "      <td>0.694941</td>\n",
       "      <td>2.005061</td>\n",
       "    </tr>\n",
       "    <tr>\n",
       "      <th>2</th>\n",
       "      <td>HUN</td>\n",
       "      <td>Hungary</td>\n",
       "      <td>HUN.3_1</td>\n",
       "      <td>Baranya</td>\n",
       "      <td>None</td>\n",
       "      <td>None</td>\n",
       "      <td>Megye</td>\n",
       "      <td>County</td>\n",
       "      <td>None</td>\n",
       "      <td>HU.BE</td>\n",
       "      <td>POLYGON ((20.89214516 46.27170944, 20.89204216...</td>\n",
       "      <td>Baranya</td>\n",
       "      <td>6.632110</td>\n",
       "      <td>2.887700</td>\n",
       "      <td>6.059370</td>\n",
       "      <td>50.125187</td>\n",
       "      <td>9.438218</td>\n",
       "      <td>18.426884</td>\n",
       "      <td>3.125275</td>\n",
       "      <td>0.464752</td>\n",
       "      <td>2.840505</td>\n",
       "    </tr>\n",
       "    <tr>\n",
       "      <th>3</th>\n",
       "      <td>HUN</td>\n",
       "      <td>Hungary</td>\n",
       "      <td>HUN.4_1</td>\n",
       "      <td>Borsod-Abaúj-Zemplén</td>\n",
       "      <td>None</td>\n",
       "      <td>None</td>\n",
       "      <td>Megye</td>\n",
       "      <td>County</td>\n",
       "      <td>None</td>\n",
       "      <td>HU.BZ</td>\n",
       "      <td>POLYGON ((20.7680397 47.67522812, 20.76270866 ...</td>\n",
       "      <td>Borsod-Abaúj-Zemplén</td>\n",
       "      <td>7.149113</td>\n",
       "      <td>1.818254</td>\n",
       "      <td>11.692758</td>\n",
       "      <td>51.646082</td>\n",
       "      <td>5.793633</td>\n",
       "      <td>15.768155</td>\n",
       "      <td>4.019665</td>\n",
       "      <td>0.588171</td>\n",
       "      <td>1.524169</td>\n",
       "    </tr>\n",
       "    <tr>\n",
       "      <th>4</th>\n",
       "      <td>HUN</td>\n",
       "      <td>Hungary</td>\n",
       "      <td>HUN.5_1</td>\n",
       "      <td>Budapest</td>\n",
       "      <td>Budapeste</td>\n",
       "      <td>None</td>\n",
       "      <td>Fovaros</td>\n",
       "      <td>Capital City</td>\n",
       "      <td>None</td>\n",
       "      <td>HU.BU</td>\n",
       "      <td>POLYGON ((18.94665337 47.37084198, 18.94456673...</td>\n",
       "      <td>Budapest</td>\n",
       "      <td>9.036547</td>\n",
       "      <td>3.830614</td>\n",
       "      <td>3.175956</td>\n",
       "      <td>41.174071</td>\n",
       "      <td>17.351850</td>\n",
       "      <td>19.789950</td>\n",
       "      <td>2.319787</td>\n",
       "      <td>0.338184</td>\n",
       "      <td>2.983041</td>\n",
       "    </tr>\n",
       "  </tbody>\n",
       "</table>\n",
       "</div>"
      ],
      "text/plain": [
       "  GID_0   NAME_0    GID_1                NAME_1           VARNAME_1 NL_NAME_1  \\\n",
       "0   HUN  Hungary  HUN.1_1           Bács-Kiskun  Bacs-Bodrog-Kiskun      None   \n",
       "1   HUN  Hungary  HUN.2_1                 Békés                None      None   \n",
       "2   HUN  Hungary  HUN.3_1               Baranya                None      None   \n",
       "3   HUN  Hungary  HUN.4_1  Borsod-Abaúj-Zemplén                None      None   \n",
       "4   HUN  Hungary  HUN.5_1              Budapest           Budapeste      None   \n",
       "\n",
       "    TYPE_1     ENGTYPE_1  CC_1 HASC_1  \\\n",
       "0    Megye        County  None  HU.BK   \n",
       "1    Megye        County  None  HU.BA   \n",
       "2    Megye        County  None  HU.BE   \n",
       "3    Megye        County  None  HU.BZ   \n",
       "4  Fovaros  Capital City  None  HU.BU   \n",
       "\n",
       "                                            geometry                 Megye  \\\n",
       "0  POLYGON ((19.51615524 46.15385056, 19.51568413...           Bács-Kiskun   \n",
       "1  POLYGON ((18.07125473 45.77189255, 18.07113266...                 Békés   \n",
       "2  POLYGON ((20.89214516 46.27170944, 20.89204216...               Baranya   \n",
       "3  POLYGON ((20.7680397 47.67522812, 20.76270866 ...  Borsod-Abaúj-Zemplén   \n",
       "4  POLYGON ((18.94665337 47.37084198, 18.94456673...              Budapest   \n",
       "\n",
       "   MSZP-PÁRBESZÉD_%    MKKP_%   JOBBIK_%   FIDESZ_%  MOMENTUM_%       DK_%  \\\n",
       "0          5.079207  2.194038   7.054993  58.813437    7.268395  13.432800   \n",
       "1          6.165539  2.142582   8.654675  52.697251    6.801804  16.744595   \n",
       "2          6.632110  2.887700   6.059370  50.125187    9.438218  18.426884   \n",
       "3          7.149113  1.818254  11.692758  51.646082    5.793633  15.768155   \n",
       "4          9.036547  3.830614   3.175956  41.174071   17.351850  19.789950   \n",
       "\n",
       "   MI HAZÁNK_%  MUNKÁSPÁRT_%     LMP_%  \n",
       "0     3.665420      0.391641  2.100069  \n",
       "1     4.093551      0.694941  2.005061  \n",
       "2     3.125275      0.464752  2.840505  \n",
       "3     4.019665      0.588171  1.524169  \n",
       "4     2.319787      0.338184  2.983041  "
      ]
     },
     "execution_count": 30,
     "metadata": {},
     "output_type": "execute_result"
    }
   ],
   "source": [
    "# megyei adatok\n",
    "megyei_geoadatok = map_df.merge(megyei_adatok.loc[:, [\"Megye\"]+cols_partra_adott_szavazatok_szazalekban],\n",
    "                            left_on = \"NAME_1\", right_on = \"Megye\", how='outer')\n",
    "megyei_geoadatok.head()"
   ]
  },
  {
   "cell_type": "code",
   "execution_count": 31,
   "metadata": {},
   "outputs": [],
   "source": [
    "def colormid(c):\n",
    "    return c + (0.25 * (1 - c))\n",
    "\n",
    "def megyei_adatok_plot(figure_title, axis_title='Érvényes szavazatok pártra leadott %-os aránya:\\n{}', my_vmax=65, my_figsize = (13,20)):\n",
    "    fig = plt.figure(figsize=my_figsize)\n",
    "    fig.subplots_adjust(hspace=0.5)\n",
    "    fig.suptitle(figure_title)\n",
    "\n",
    "    for i in range(len(partok)):\n",
    "        party = partok[i]\n",
    "        ## set colormap to match party color\n",
    "        partycolor = mpl.colors.to_rgb(partok_szine[i])\n",
    "        cdict = {'red': ((0.0, 1.0, 1.0),\n",
    "                     (0.5, colormid(partycolor[0]), colormid(partycolor[0])),\n",
    "                     (1.0, partycolor[0], partycolor[0])),\n",
    "             'green': ((0.0, 1.0, 1.0),\n",
    "                       (0.5,  colormid(partycolor[1]),  colormid(partycolor[1])),\n",
    "                       (1.0, partycolor[1], partycolor[1])),\n",
    "             'blue': ((0.0, 1.0, 1.0),\n",
    "                      (0.5,  colormid(partycolor[2]),  colormid(partycolor[2])),\n",
    "                      (1.0, partycolor[2], partycolor[2])),}\n",
    "        my_cmap = mpl.colors.LinearSegmentedColormap('my_colormap',cdict,256)\n",
    "\n",
    "        ax = fig.add_subplot(int(np.ceil(len(partok)/2)),2,i+1)\n",
    "        #fig, ax = plt.subplots((1, figsize=(10, 6))\n",
    "        ax.axis('off')\n",
    "        ax.set_title(axis_title.format(party),\n",
    "                     fontdict={'fontsize': '10', 'fontweight' : '3'})\n",
    "        #ax.annotate('Forrás: valasztas.hu (választási adatok), DIVA-GIS (térkép forma)',\n",
    "        #            xy=(0.1, .08), \n",
    "        #            xycoords='figure fraction', \n",
    "        #            horizontalalignment='left', \n",
    "        #            verticalalignment='top', \n",
    "        #            fontsize=12, \n",
    "        #            color='#555555')\n",
    "\n",
    "        # Create colorbar\n",
    "        if my_vmax == 'partymax':\n",
    "            vmax_to_use = megyei_geoadatok[party+\"_%\"].max()\n",
    "            vmin_to_use = megyei_geoadatok[party+\"_%\"].min()\n",
    "        else: \n",
    "            vmax_to_use = my_vmax\n",
    "            vmin_to_use = 0\n",
    "        colorm = plt.cm.ScalarMappable(cmap=my_cmap, norm=plt.Normalize(vmin=vmin_to_use, vmax=vmax_to_use))\n",
    "        # empty array for the data range\n",
    "        colorm._A = []\n",
    "        # add the colorbar to the figure\n",
    "        cbar = fig.colorbar(colorm)\n",
    "\n",
    "        megyei_geoadatok.plot(column=party+\"_%\", \n",
    "                              #cmap='Blues', \n",
    "                              #norm=plt.Normalize(vmin=0, vmax=100),\n",
    "                              cmap=my_cmap, \n",
    "                              vmin=vmin_to_use, vmax=vmax_to_use,\n",
    "                              linewidth=0.8, \n",
    "                              ax=ax, edgecolor='0.8')"
   ]
  },
  {
   "cell_type": "code",
   "execution_count": 32,
   "metadata": {},
   "outputs": [],
   "source": [
    "megyei_adatok = (valasztasi_adatok.loc[:, [\"Megye\", 'Névjegyzékben szereplő választópolgárok száma', 'Megjelentek száma', 'Érvényes szavazólapok száma']]).groupby(\"Megye\").sum().reset_index()\n",
    "megyei_adatok[\"Részvételi arány %\"] = megyei_adatok['Megjelentek száma'] / megyei_adatok['Névjegyzékben szereplő választópolgárok száma'] * 100\n",
    "megyei_adatok[\"Érvényes szavazatok %\"] = megyei_adatok['Érvényes szavazólapok száma'] / megyei_adatok['Megjelentek száma'] * 100"
   ]
  },
  {
   "cell_type": "code",
   "execution_count": 33,
   "metadata": {},
   "outputs": [],
   "source": [
    "megyei_geoadatok = megyei_geoadatok.merge(megyei_adatok,\n",
    "                            left_on = \"NAME_1\", right_on = \"Megye\", how='outer')"
   ]
  },
  {
   "cell_type": "markdown",
   "metadata": {},
   "source": [
    "### Település típusa szerinti elemzéshez"
   ]
  },
  {
   "cell_type": "code",
   "execution_count": 34,
   "metadata": {},
   "outputs": [],
   "source": [
    "def teljes_part_eredmeny(party):\n",
    "    return (valasztasi_adatok[party].sum() + \\\n",
    "            levelszavazatok[party] + \\\n",
    "            kulkepviseleti_szavazatok[party]) / \\\n",
    "            (valasztasi_adatok[\"Érvényes szavazólapok száma\"].sum() + levelszavazat_ervenyes + kulkepvis_ervenyes_szavazolap) * 100\n"
   ]
  },
  {
   "cell_type": "code",
   "execution_count": 35,
   "metadata": {},
   "outputs": [],
   "source": [
    "telepulestipus_szerint = valasztasi_adatok.groupby(\"Település típusa\").mean().loc[:, cols_partra_adott_szavazatok_szazalekban]\n",
    "telepulestipus_szerint.loc[\"BELFÖLDI\", :] = [valasztasi_adatok[party].sum() / valasztasi_adatok[\"Érvényes szavazólapok száma\"].sum() * 100 for party in partok]\n",
    "telepulestipus_szerint.loc[\"Levélszavazat\", :] = [levelszavazatok[party] / levelszavazat_ervenyes_szavazat * 100 for party in partok]\n",
    "telepulestipus_szerint.loc[\"Külképviselet\", :] = [kulkepviseleti_szavazatok[party] / kulkepvis_ervenyes_szavazolap * 100 for party in partok]\n",
    "telepulestipus_szerint.loc[\"ÖSSZESÍTETT\", :] = pd.Series([teljes_part_eredmeny(party) for party in partok], index=list(map(lambda x: x+\"_%\", partok)))"
   ]
  },
  {
   "cell_type": "code",
   "execution_count": 36,
   "metadata": {},
   "outputs": [
    {
     "data": {
      "text/html": [
       "<div>\n",
       "<style scoped>\n",
       "    .dataframe tbody tr th:only-of-type {\n",
       "        vertical-align: middle;\n",
       "    }\n",
       "\n",
       "    .dataframe tbody tr th {\n",
       "        vertical-align: top;\n",
       "    }\n",
       "\n",
       "    .dataframe thead th {\n",
       "        text-align: right;\n",
       "    }\n",
       "</style>\n",
       "<table border=\"1\" class=\"dataframe\">\n",
       "  <thead>\n",
       "    <tr style=\"text-align: right;\">\n",
       "      <th></th>\n",
       "      <th>MSZP-PÁRBESZÉD_%</th>\n",
       "      <th>MKKP_%</th>\n",
       "      <th>JOBBIK_%</th>\n",
       "      <th>FIDESZ_%</th>\n",
       "      <th>MOMENTUM_%</th>\n",
       "      <th>DK_%</th>\n",
       "      <th>MI HAZÁNK_%</th>\n",
       "      <th>MUNKÁSPÁRT_%</th>\n",
       "      <th>LMP_%</th>\n",
       "    </tr>\n",
       "    <tr>\n",
       "      <th>Település típusa</th>\n",
       "      <th></th>\n",
       "      <th></th>\n",
       "      <th></th>\n",
       "      <th></th>\n",
       "      <th></th>\n",
       "      <th></th>\n",
       "      <th></th>\n",
       "      <th></th>\n",
       "      <th></th>\n",
       "    </tr>\n",
       "  </thead>\n",
       "  <tbody>\n",
       "    <tr>\n",
       "      <th>Fővárosi kerület</th>\n",
       "      <td>8.792431</td>\n",
       "      <td>3.867999</td>\n",
       "      <td>3.203240</td>\n",
       "      <td>41.628195</td>\n",
       "      <td>17.348330</td>\n",
       "      <td>19.417060</td>\n",
       "      <td>2.350369</td>\n",
       "      <td>0.344670</td>\n",
       "      <td>3.047706</td>\n",
       "    </tr>\n",
       "    <tr>\n",
       "      <th>Megyei jogú város</th>\n",
       "      <td>7.754528</td>\n",
       "      <td>2.656323</td>\n",
       "      <td>6.236065</td>\n",
       "      <td>48.073557</td>\n",
       "      <td>10.265670</td>\n",
       "      <td>18.838494</td>\n",
       "      <td>3.357633</td>\n",
       "      <td>0.416314</td>\n",
       "      <td>2.401415</td>\n",
       "    </tr>\n",
       "    <tr>\n",
       "      <th>Város</th>\n",
       "      <td>5.791364</td>\n",
       "      <td>2.109993</td>\n",
       "      <td>8.090840</td>\n",
       "      <td>55.780774</td>\n",
       "      <td>6.961927</td>\n",
       "      <td>15.265971</td>\n",
       "      <td>3.778023</td>\n",
       "      <td>0.466506</td>\n",
       "      <td>1.754602</td>\n",
       "    </tr>\n",
       "    <tr>\n",
       "      <th>Község</th>\n",
       "      <td>4.545690</td>\n",
       "      <td>1.755409</td>\n",
       "      <td>8.538844</td>\n",
       "      <td>63.585713</td>\n",
       "      <td>4.511150</td>\n",
       "      <td>11.351873</td>\n",
       "      <td>3.618691</td>\n",
       "      <td>0.532731</td>\n",
       "      <td>1.559898</td>\n",
       "    </tr>\n",
       "    <tr>\n",
       "      <th>BELFÖLDI</th>\n",
       "      <td>6.720124</td>\n",
       "      <td>2.640663</td>\n",
       "      <td>6.467346</td>\n",
       "      <td>51.884112</td>\n",
       "      <td>9.980377</td>\n",
       "      <td>16.347060</td>\n",
       "      <td>3.340595</td>\n",
       "      <td>0.422975</td>\n",
       "      <td>2.196748</td>\n",
       "    </tr>\n",
       "    <tr>\n",
       "      <th>Levélszavazat</th>\n",
       "      <td>0.447854</td>\n",
       "      <td>0.583252</td>\n",
       "      <td>0.324608</td>\n",
       "      <td>95.971046</td>\n",
       "      <td>0.959936</td>\n",
       "      <td>0.595403</td>\n",
       "      <td>0.633593</td>\n",
       "      <td>0.123247</td>\n",
       "      <td>0.361061</td>\n",
       "    </tr>\n",
       "    <tr>\n",
       "      <th>Külképviselet</th>\n",
       "      <td>6.365456</td>\n",
       "      <td>5.221619</td>\n",
       "      <td>2.287675</td>\n",
       "      <td>41.303975</td>\n",
       "      <td>29.042036</td>\n",
       "      <td>9.596797</td>\n",
       "      <td>2.070346</td>\n",
       "      <td>0.108665</td>\n",
       "      <td>4.003432</td>\n",
       "    </tr>\n",
       "    <tr>\n",
       "      <th>ÖSSZESÍTETT</th>\n",
       "      <td>6.613902</td>\n",
       "      <td>2.619388</td>\n",
       "      <td>6.344016</td>\n",
       "      <td>52.560049</td>\n",
       "      <td>9.926197</td>\n",
       "      <td>16.050808</td>\n",
       "      <td>3.289102</td>\n",
       "      <td>0.416396</td>\n",
       "      <td>2.175274</td>\n",
       "    </tr>\n",
       "  </tbody>\n",
       "</table>\n",
       "</div>"
      ],
      "text/plain": [
       "                   MSZP-PÁRBESZÉD_%    MKKP_%  JOBBIK_%   FIDESZ_%  \\\n",
       "Település típusa                                                     \n",
       "Fővárosi kerület           8.792431  3.867999  3.203240  41.628195   \n",
       "Megyei jogú város          7.754528  2.656323  6.236065  48.073557   \n",
       "Város                      5.791364  2.109993  8.090840  55.780774   \n",
       "Község                     4.545690  1.755409  8.538844  63.585713   \n",
       "BELFÖLDI                   6.720124  2.640663  6.467346  51.884112   \n",
       "Levélszavazat              0.447854  0.583252  0.324608  95.971046   \n",
       "Külképviselet              6.365456  5.221619  2.287675  41.303975   \n",
       "ÖSSZESÍTETT                6.613902  2.619388  6.344016  52.560049   \n",
       "\n",
       "                   MOMENTUM_%       DK_%  MI HAZÁNK_%  MUNKÁSPÁRT_%     LMP_%  \n",
       "Település típusa                                                               \n",
       "Fővárosi kerület    17.348330  19.417060     2.350369      0.344670  3.047706  \n",
       "Megyei jogú város   10.265670  18.838494     3.357633      0.416314  2.401415  \n",
       "Város                6.961927  15.265971     3.778023      0.466506  1.754602  \n",
       "Község               4.511150  11.351873     3.618691      0.532731  1.559898  \n",
       "BELFÖLDI             9.980377  16.347060     3.340595      0.422975  2.196748  \n",
       "Levélszavazat        0.959936   0.595403     0.633593      0.123247  0.361061  \n",
       "Külképviselet       29.042036   9.596797     2.070346      0.108665  4.003432  \n",
       "ÖSSZESÍTETT          9.926197  16.050808     3.289102      0.416396  2.175274  "
      ]
     },
     "execution_count": 36,
     "metadata": {},
     "output_type": "execute_result"
    }
   ],
   "source": [
    "telepulestipus_szerint"
   ]
  },
  {
   "cell_type": "code",
   "execution_count": 37,
   "metadata": {},
   "outputs": [],
   "source": [
    "telepulestipus_szerint_osszes_telepules = pd.melt(valasztasi_adatok.loc[:, [\"Település típusa\"]+cols_partra_adott_szavazatok_szazalekban], id_vars=\"Település típusa\")\n",
    "telepulestipus_szerint_osszes_telepules.sort_values(by='Település típusa', inplace=True)\n",
    "telepulestipus_szerint_osszes_telepules.columns = ['Település típusa', 'Párt', 'Érvényes szavazatok pártra leadott %-os aránya']\n",
    "telepulestipus_szerint_osszes_telepules[\"Párt\"] = telepulestipus_szerint_osszes_telepules[\"Párt\"].map(lambda x: x[:-2])\n",
    "telepulestipus_szerint_osszes_telepules[\"Párt\"] = pd.Categorical(telepulestipus_szerint_osszes_telepules[\"Párt\"],\n",
    "                             #categories=list(map(lambda x: x+\"_%\", partok)),\n",
    "                             categories = partok,\n",
    "                             ordered=True)\n",
    "telepulestipus_szerint_osszes_telepules['Település típusa'] = telepulestipus_szerint_osszes_telepules['Település típusa'].cat.remove_unused_categories()"
   ]
  },
  {
   "cell_type": "code",
   "execution_count": 38,
   "metadata": {},
   "outputs": [
    {
     "name": "stdout",
     "output_type": "stream",
     "text": [
      "<class 'pandas.core.frame.DataFrame'>\n",
      "Int64Index: 3177 entries, 0 to 3176\n",
      "Columns: 251 entries, Település to LMP_szavazóképes_lakosság_%\n",
      "dtypes: category(1), float64(147), int64(100), object(3)\n",
      "memory usage: 6.1+ MB\n"
     ]
    }
   ],
   "source": [
    "if verbose_print:\n",
    "    display(valasztasi_adatok.info())"
   ]
  },
  {
   "cell_type": "markdown",
   "metadata": {},
   "source": [
    "### Korrelációk az egyes (többnyire megyei) mutatókkal\n",
    "\n",
    "Fontos hangsúlyozni, hogy a KSH területi adatai többnyire megye-szintűek, így a legtöbb rendelkezésre álló mutató az adott település megyéjét jellemzi, nem magát a települést.\n",
    "\n",
    "A **2011-es adatok település-szintűek**, a 2011-es helyiségnévkönyvből származnak. Az évszám nélküli mutatók mind a választással kapcsolatos, település szintű mutatók. (Egy fővárosi kerület egy településnek minősül.)\n",
    "\n",
    "A legtöbb **megyei** mutatóban egy **2001-2005** közötti évből, valamint **2017-ből vagy 2018-ból** származnak az adatok (attól függően, hogy mely években voltak a teljes országot lefedő adatok), emellett a mutatókra a későbbi és a korábbi év arányát is használjuk mutatóként."
   ]
  },
  {
   "cell_type": "code",
   "execution_count": 39,
   "metadata": {},
   "outputs": [
    {
     "name": "stdout",
     "output_type": "stream",
     "text": [
      "Összes település (egy fővárosi kerület egy településnek minősül): 3177\n",
      "\n",
      "A településekből község: 2809 (88.42%)\n",
      "\tA községekből nem Pest megyei község: 2676 (95.27%)\n",
      "\n",
      "A településekből (nem megyei/fő-) város: 322 (10.14%)\n",
      "\tA városokból nem Pest megyei város: 269 (83.54%)\n"
     ]
    }
   ],
   "source": [
    "telepulesek_szama = len(valasztasi_adatok)\n",
    "kozsegek_szama = len(valasztasi_adatok[valasztasi_adatok[\"Település típusa\"] == \"Község\"])\n",
    "nempest_kozsegek_szama = len(valasztasi_adatok[(valasztasi_adatok[\"Település típusa\"] == \"Község\") & (valasztasi_adatok[\"Megye\"] != \"Pest\")])\n",
    "varosok_szama = len(valasztasi_adatok[valasztasi_adatok[\"Település típusa\"] == \"Város\"])\n",
    "nempest_varosok_szama = len(valasztasi_adatok[(valasztasi_adatok[\"Település típusa\"] == \"Város\") & (valasztasi_adatok[\"Megye\"] != \"Pest\")])\n",
    "print(\"\\nÖsszes település (egy fővárosi kerület egy településnek minősül):\", telepulesek_szama)\n",
    "print(\"\\nA településekből község:\", \n",
    "      kozsegek_szama,\n",
    "     \"({}%)\".format(round(kozsegek_szama/telepulesek_szama*100, 2) ))\n",
    "print(\"\\tA községekből nem Pest megyei község:\", \n",
    "      nempest_kozsegek_szama,\n",
    "     \"({}%)\".format(round(nempest_kozsegek_szama/kozsegek_szama*100, 2) ))\n",
    "print(\"\\nA településekből (nem megyei/fő-) város:\", \n",
    "      varosok_szama,\n",
    "     \"({}%)\".format(round(varosok_szama/telepulesek_szama*100, 2) ))\n",
    "print(\"\\tA városokból nem Pest megyei város:\", \n",
    "      nempest_varosok_szama,\n",
    "     \"({}%)\".format(round(nempest_varosok_szama/varosok_szama*100, 2) ))\n"
   ]
  },
  {
   "cell_type": "code",
   "execution_count": 40,
   "metadata": {},
   "outputs": [],
   "source": [
    "input_vars = valasztasi_adatok.loc[:, [c for c in valasztasi_adatok.columns if all([party not in c for party in partok]) ]].copy()"
   ]
  },
  {
   "cell_type": "code",
   "execution_count": 41,
   "metadata": {},
   "outputs": [
    {
     "name": "stdout",
     "output_type": "stream",
     "text": [
      "Nemnumerikus bemeneti oszlopok: ['Település', 'Megye', 'Település típusa', 'kistérség_székhelye_2011']\n"
     ]
    }
   ],
   "source": [
    "if verbose_print:\n",
    "    print(\"Nemnumerikus bemeneti oszlopok:\",\n",
    "    input_vars.select_dtypes(exclude=['number']).columns.tolist())"
   ]
  },
  {
   "cell_type": "code",
   "execution_count": 42,
   "metadata": {},
   "outputs": [],
   "source": [
    "for c in [\"Megye\", \"Település típusa\"]:\n",
    "    input_vars = pd.concat([input_vars, pd.get_dummies(input_vars[c])], axis=1)\n",
    "    del input_vars[c]"
   ]
  },
  {
   "cell_type": "code",
   "execution_count": 43,
   "metadata": {},
   "outputs": [],
   "source": [
    "if False:\n",
    "    input_vars = input_vars.select_dtypes(include=['number'])\n",
    "    for c in input_vars.columns:\n",
    "        if len(input_vars[input_vars[c].isna()]) > 0:\n",
    "            print(c, len(input_vars[input_vars[c].isna()]))\n",
    "            input_vars[c].fillna(0, inplace=True)"
   ]
  },
  {
   "cell_type": "markdown",
   "metadata": {},
   "source": [
    "**Korrelációk az egyes mutatók és a pártok eredményei között -- az összes belföldi településre**"
   ]
  },
  {
   "cell_type": "code",
   "execution_count": 44,
   "metadata": {},
   "outputs": [],
   "source": [
    "result = pd.DataFrame()\n",
    "for party in partok:\n",
    "    target = valasztasi_adatok[party+\"_%\"]\n",
    "    result_party = input_vars.corrwith(target)\n",
    "    result_party.name = party\n",
    "    result = pd.concat([result, result_party], axis=1, sort=False)\n",
    "    \n",
    "result_above20_r = result[(result.abs() > 0.2).any(1) ]"
   ]
  },
  {
   "cell_type": "markdown",
   "metadata": {},
   "source": [
    "#### Korrelációk az egyes mutatók és a pártok eredményei között -- csak a városokra szorítkozva"
   ]
  },
  {
   "cell_type": "code",
   "execution_count": 45,
   "metadata": {},
   "outputs": [],
   "source": [
    "result_varos = pd.DataFrame()\n",
    "for party in partok:\n",
    "    target = valasztasi_adatok[valasztasi_adatok[\"Település típusa\"] == \"Város\"][party+\"_%\"]\n",
    "    result_party = input_vars[valasztasi_adatok[\"Település típusa\"] == \"Város\"].corrwith(target)\n",
    "    result_party.name = party\n",
    "    result_varos = pd.concat([result_varos, result_party], axis=1, sort=False)\n",
    "\n",
    "result_varos_above20_r = result_varos[(result_varos.abs() > 0.2).any(1) ]"
   ]
  },
  {
   "cell_type": "markdown",
   "metadata": {},
   "source": [
    "#### Korrelációk az egyes mutatók és a pártok eredményei között -- csak a községekre szorítkozva\n",
    "\n",
    "Mivel a főváros, sőt a városok és a községek közti gazdasági és egyéb különbség jelentős, és azt már láttuk, hogy a település típusa fontos a pártok eredménye szempontjából."
   ]
  },
  {
   "cell_type": "code",
   "execution_count": 46,
   "metadata": {},
   "outputs": [],
   "source": [
    "result_kozseg = pd.DataFrame()\n",
    "for party in partok:\n",
    "    target = valasztasi_adatok[valasztasi_adatok[\"Település típusa\"] == \"Község\"][party+\"_%\"]\n",
    "    result_party = input_vars[valasztasi_adatok[\"Település típusa\"] == \"Község\"].corrwith(target)\n",
    "    result_party.name = party\n",
    "    result_kozseg = pd.concat([result_kozseg, result_party], axis=1, sort=False)\n",
    "    \n",
    "result_kozseg_above20_r = result_kozseg[(result_kozseg.abs() > 0.2).any(1) ]"
   ]
  },
  {
   "cell_type": "markdown",
   "metadata": {},
   "source": [
    "#### Pest megyén kívüli községek esetén a korrelációk egyes mutatókkal"
   ]
  },
  {
   "cell_type": "code",
   "execution_count": 47,
   "metadata": {},
   "outputs": [],
   "source": [
    "mask = (valasztasi_adatok[\"Település típusa\"] == \"Község\") & (valasztasi_adatok[\"Megye\"] != \"Pest\")\n",
    "result_kozseg_nonpest = pd.DataFrame()\n",
    "for party in partok:\n",
    "    target = valasztasi_adatok[ mask ][party+\"_%\"]\n",
    "    result_party = input_vars[ mask ].corrwith(target)\n",
    "    result_party.name = party\n",
    "    result_kozseg_nonpest = pd.concat([result_kozseg_nonpest, result_party], axis=1, sort=False)\n",
    "result_kozseg_nonpest_above20_r = result_kozseg_nonpest[(result_kozseg_nonpest.abs() > 0.2).any(1) ]"
   ]
  },
  {
   "cell_type": "code",
   "execution_count": 48,
   "metadata": {},
   "outputs": [],
   "source": [
    "corr_vars_of_interest = [\"élettartam_ffi_2017\",\n",
    "                        \"élettartam_nő_2017\",\n",
    "                        \"életkorátlag_ffi_arány_2018_2001\",\n",
    "                        \"életkorátlag_nő_arány_2018_2001\",\n",
    "                        \"nettókereset_2017\",\n",
    "                        \"aktivitási_arány_2018\",\n",
    "                        \"aktivitási_arány_arány_2018_2006\",\n",
    "                        \"gdp_per_fo_ezerft_2017\",\n",
    "                        \"gdp_orszagos_atlag_szazaleka_2017\",\n",
    "                        \"vendégéjszakák_2018\",\n",
    "                        \"vendégéjszakák_külföldi_2018\",\n",
    "                        \"vendégéjszakák_arány_2018_2001\",\n",
    "                        \"személygépkocsik_2018\",\n",
    "                        \"internet_összes_vezetékes_2017\",\n",
    "                        \"gyógyszertárak_2018\",\n",
    "                        \"nonprofit_összesen_2017\",\n",
    "                        \"nonprofit_összesen_arány_2017_2005\",\n",
    "                        \"bűnelkövetők_arány_fiatalkorú_összes_2017\",\n",
    "                        \"bűnelkövetők_arány_összes_fiatalkorú_arány_2017_2001\",\n",
    "                        \"bűncselekmények_2017\",\n",
    "                        \"bűncselekmények_arány_2017_2001\",\n",
    "                        \"felsőfokúnappalihallgatók_2017\",\n",
    "                        \"felsőfokúnappalihallgatók_arány_2017_2001\",\n",
    "                        \"pedagógusok_óvodai_2017\",\n",
    "                        \"köznevelési_intézmények_óvodai_arány_2017_2001\",\n",
    "                        \"szociális_étkeztetésben_részesülők_2018\",\n",
    "                        \"hátrányoshelyzetű_kiskorúak_2017\",\n",
    "                        \"orvosok_száma_arány_2017_2002\",\n",
    "                        \"háztartás_áramfogyasztás_kwh_2017\",\n",
    "                        \"közműolló_csatornázott_lakások_vízközművezettek_százalékában_2017\",\n",
    "                        \"részvételi arány\"]\n"
   ]
  },
  {
   "cell_type": "markdown",
   "metadata": {},
   "source": [
    "### Nemzetiségi önkormányzatok"
   ]
  },
  {
   "cell_type": "code",
   "execution_count": 49,
   "metadata": {
    "scrolled": true
   },
   "outputs": [
    {
     "data": {
      "text/plain": [
       "13"
      ]
     },
     "execution_count": 49,
     "metadata": {},
     "output_type": "execute_result"
    }
   ],
   "source": [
    "nemzetisegi_onkorm = [c for c in valasztasi_adatok.columns if c.startswith(\"önkormányzat_\")]\n",
    "len(nemzetisegi_onkorm)"
   ]
  },
  {
   "cell_type": "markdown",
   "metadata": {},
   "source": [
    "### Belföldi összesített eredmények"
   ]
  },
  {
   "cell_type": "code",
   "execution_count": 50,
   "metadata": {},
   "outputs": [],
   "source": [
    "belfoldi_osszesitett = (valasztasi_adatok.loc[:, [\"Érvényes szavazólapok száma\"]+partok]).sum()\n",
    "for i in range ( len( partok )):\n",
    "    belfoldi_osszesitett[cols_partra_adott_szavazatok_szazalekban[i]] = belfoldi_osszesitett[partok[i]] / belfoldi_osszesitett[\"Érvényes szavazólapok száma\"] * 100\n",
    "#belfoldi_osszesitett.loc[[\"Érvényes szavazólapok száma\"]+partok]"
   ]
  },
  {
   "cell_type": "code",
   "execution_count": null,
   "metadata": {},
   "outputs": [],
   "source": []
  }
 ],
 "metadata": {
  "kernelspec": {
   "display_name": "Python 3",
   "language": "python",
   "name": "python3"
  },
  "language_info": {
   "codemirror_mode": {
    "name": "ipython",
    "version": 3
   },
   "file_extension": ".py",
   "mimetype": "text/x-python",
   "name": "python",
   "nbconvert_exporter": "python",
   "pygments_lexer": "ipython3",
   "version": "3.6.8"
  }
 },
 "nbformat": 4,
 "nbformat_minor": 2
}
