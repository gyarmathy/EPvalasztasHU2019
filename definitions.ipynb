{
 "cells": [
  {
   "cell_type": "markdown",
   "metadata": {},
   "source": [
    "# Definíciók"
   ]
  },
  {
   "cell_type": "markdown",
   "metadata": {},
   "source": [
    "## Importok"
   ]
  },
  {
   "cell_type": "code",
   "execution_count": null,
   "metadata": {},
   "outputs": [],
   "source": [
    "## to manipulate data\n",
    "import pandas as pd\n",
    "import numpy as np\n",
    "import re\n",
    "\n",
    "## for data analysis\n",
    "#from collections import Counter\n",
    "#import scipy.stats as st\n",
    "#import statsmodels.api as sm\n",
    "#from sklearn.model_selection import train_test_split\n",
    "#from sklearn.preprocessing import StandardScaler, MinMaxScaler\n",
    "#from sklearn.decomposition import PCA\n",
    "#from sklearn import linear_model\n",
    "#from sklearn.cluster import DBSCAN, AgglomerativeClustering\n",
    "#from sklearn import neighbors\n",
    "\n",
    "## for visualisation\n",
    "import seaborn as sns\n",
    "import matplotlib as mpl\n",
    "import matplotlib.pyplot as plt\n",
    "from mpl_toolkits.mplot3d import Axes3D\n",
    "from bokeh.io import output_file, output_notebook, show\n",
    "from bokeh.models import BasicTicker, ColorBar, LinearColorMapper, ColumnDataSource, PrintfTickFormatter\n",
    "from bokeh.plotting import figure\n",
    "from bokeh.transform import transform\n",
    "\n",
    "%matplotlib inline\n",
    "pd.options.display.max_rows = 200\n",
    "pd.options.display.max_columns = 200"
   ]
  },
  {
   "cell_type": "code",
   "execution_count": 1,
   "metadata": {},
   "outputs": [],
   "source": [
    "#from IPython.display import HTML"
   ]
  },
  {
   "cell_type": "code",
   "execution_count": null,
   "metadata": {},
   "outputs": [],
   "source": [
    "import geopandas as gpd\n",
    "import os\n",
    "import requests\n",
    "from io import BytesIO\n",
    "import zipfile"
   ]
  },
  {
   "cell_type": "code",
   "execution_count": null,
   "metadata": {},
   "outputs": [],
   "source": [
    "import unicodedata\n",
    "\n",
    "def strip_accents(text):\n",
    "    \"\"\"\n",
    "    Strip accents from input String.\n",
    "\n",
    "    :param text: The input string.\n",
    "    :type text: String.\n",
    "\n",
    "    :returns: The processed String.\n",
    "    :rtype: String.\n",
    "    \n",
    "    Source: https://stackoverflow.com/a/31607735\n",
    "    \"\"\"\n",
    "    try:\n",
    "        text = unicode(text, 'utf-8')\n",
    "    except (TypeError, NameError): # unicode is a default on python 3 \n",
    "        pass\n",
    "    text = unicodedata.normalize('NFD', text)\n",
    "    text = text.encode('ascii', 'ignore')\n",
    "    text = text.decode(\"utf-8\")\n",
    "    return str(text)"
   ]
  },
  {
   "cell_type": "markdown",
   "metadata": {},
   "source": [
    "## Elemzés"
   ]
  },
  {
   "cell_type": "code",
   "execution_count": null,
   "metadata": {},
   "outputs": [],
   "source": [
    "def colour_cm(df, matrixtitle = \"Korrelációs mátrix\", pwidth = 1, pheight = 1):\n",
    "    '''Takes a pandas correlation dataframe and visualises it with hover tools.'''\n",
    "    \n",
    "    coln = len(df)\n",
    "    \n",
    "    # Since bokeh uses bottom left corner as origin, we need to reverse the order of column names in the index to get a correlation matrix with the usual orientation (1 along major diagonal)\n",
    "    # also, bokeh does not display NaN values, so we change them to 0\n",
    "    df = df.loc[::-1,:].fillna(0)\n",
    "    \n",
    "    # Prepare dataframe in the right format\n",
    "    df.index.name = 'AllColumnsRow'\n",
    "    df.columns.name = 'AllColumnsCol'\n",
    "    df = df.stack().rename(\"value\").reset_index()\n",
    "    \n",
    "    # the plot output:\n",
    "    output_notebook()\n",
    "    \n",
    "    # Bokeh doesn't have its own gradient color maps supported but we can use one from matplotlib.\n",
    "    colormap = mpl.cm.jet\n",
    "    bokehpalette = [mpl.colors.rgb2hex(m) for m in colormap(np.arange(colormap.N))]\n",
    "    #this mapper is what transposes a numerical value to a color. \n",
    "    mapper = LinearColorMapper(palette=bokehpalette, low=-1, high=1)\n",
    "    \n",
    "    # Define a figure and tools and the tooltip\n",
    "    \n",
    "    TOOLTIPS = [\n",
    "        (\"sor\", \"@AllColumnsRow\"),\n",
    "        (\"oszlop\", \"@AllColumnsCol\"),\n",
    "        (\"r\", \"@value\"),\n",
    "    ]\n",
    "    \n",
    "    TOOLS = \"pan,wheel_zoom,box_zoom,save,reset\"\n",
    "    \n",
    "    p = figure(\n",
    "        tools=TOOLS,\n",
    "        #plot_width=1400,\n",
    "        #plot_height=1200,\n",
    "        plot_width=int(pwidth*60*coln),\n",
    "        plot_height=int(pheight*50*coln),\n",
    "        title=matrixtitle,\n",
    "        x_range=list(df.AllColumnsCol.drop_duplicates()),\n",
    "        y_range=list(df.AllColumnsRow.drop_duplicates()),\n",
    "        toolbar_location=\"right\",\n",
    "        x_axis_location=\"below\",\n",
    "        tooltips=TOOLTIPS,\n",
    "        #sizing_mode='stretch_both',\n",
    "    )\n",
    "    \n",
    "    p.xaxis.major_label_orientation = np.pi/3\n",
    "    p.xaxis.major_label_text_font_size = '10pt'\n",
    "    p.yaxis.major_label_text_font_size = '10pt'\n",
    "\n",
    "    \n",
    "    # Create rectangle for heatmap\n",
    "    p.rect(\n",
    "        x=\"AllColumnsCol\",\n",
    "        y=\"AllColumnsRow\",\n",
    "        width=1,\n",
    "        height=1,\n",
    "        source=ColumnDataSource(df),\n",
    "        line_color=None,\n",
    "        fill_color=transform('value', mapper))\n",
    "    \n",
    "    # Add legend\n",
    "    color_bar = ColorBar(\n",
    "        color_mapper=mapper,\n",
    "        location=(0, 0),\n",
    "        ticker=BasicTicker(desired_num_ticks=10))\n",
    "    \n",
    "    p.add_layout(color_bar, 'right')\n",
    "    \n",
    "    show(p)"
   ]
  },
  {
   "cell_type": "code",
   "execution_count": null,
   "metadata": {},
   "outputs": [],
   "source": [
    "def corr_sorted(corr):\n",
    "\t#the matrix is symmetric so we need to extract upper triangle matrix without diagonal (k = 1)\n",
    "    return (corr.where(np.triu(np.ones(corr.shape), k=1).astype(np.bool))\n",
    "                 .stack()\n",
    "                 .sort_values(ascending=False))\n",
    "                 \n",
    "def corr_sorted_val(corr, threshold=0.25, col=\"r\"):\n",
    "    sol = corr_sorted(corr)\n",
    "    return pd.DataFrame(sol.where(abs(sol) > threshold).dropna(), columns=[col])\n"
   ]
  },
  {
   "cell_type": "code",
   "execution_count": null,
   "metadata": {},
   "outputs": [],
   "source": [
    "def two_sample_ztest(s1, s2):\n",
    "    '''Performs two-sided z-test on two series to test if their means difference is significant.'''\n",
    "    if len(s1) < 30 or len(s2) < 30:\n",
    "        print('Caution, data smaller than 30! Check normality or use t-test.')\n",
    "    z = (s1.mean() - s2.mean()) / np.sqrt((s1.std()**2)/len(s1) + (s2.std()**2)/len(s2))\n",
    "    if z < 0: # in the left tail\n",
    "        p = st.norm.cdf(z) * 2\n",
    "    else: # in the right tail\n",
    "        p = (1 - st.norm.cdf(z) ) * 2\n",
    "    return (z, p)\n",
    "\n"
   ]
  }
 ],
 "metadata": {
  "kernelspec": {
   "display_name": "Python 3",
   "language": "python",
   "name": "python3"
  },
  "language_info": {
   "codemirror_mode": {
    "name": "ipython",
    "version": 3
   },
   "file_extension": ".py",
   "mimetype": "text/x-python",
   "name": "python",
   "nbconvert_exporter": "python",
   "pygments_lexer": "ipython3",
   "version": "3.6.8"
  }
 },
 "nbformat": 4,
 "nbformat_minor": 2
}
